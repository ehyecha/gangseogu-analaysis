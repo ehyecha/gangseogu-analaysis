{
 "cells": [
  {
   "cell_type": "markdown",
   "metadata": {},
   "source": [
    "2024년 강서구 공모전 데이터 분석\n",
    "\n",
    "\n",
    "공공데이터 및 수집 가능한 각종 민간 데이터를 활용하여, 강서구민의 불편사항 해결과 강서구 발전에 기여할 수 있는 빅데이터 분석 아이디어 (자유주제)\n",
    "\n",
    "주요데이터: 서울시 공공데이터, kosis"
   ]
  }
 ],
 "metadata": {
  "kernelspec": {
   "display_name": "base",
   "language": "python",
   "name": "python3"
  },
  "language_info": {
   "name": "python",
   "version": "3.11.8"
  }
 },
 "nbformat": 4,
 "nbformat_minor": 2
}
